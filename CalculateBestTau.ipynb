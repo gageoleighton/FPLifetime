{
 "cells": [
  {
   "cell_type": "code",
   "execution_count": 36,
   "metadata": {},
   "outputs": [
    {
     "name": "stdout",
     "output_type": "stream",
     "text": [
      "0.0010017487594089526\n"
     ]
    }
   ],
   "source": [
    "# Jupyter Notebook - Calculate Optimal Fluorescence Lifetime for Fluorescence Polarization system\n",
    "# Gage Leighton - 2021-12-18\n",
    "\n",
    "# Very simple and \"inacurate\" script to calculate optimal fluorescence lifetime for a system in equilibrium\n",
    "# Change the un/bound mass to match your system. Optimal for systems of 7.2 to 21.9 KDa\n",
    "Unbound_mw = 2400 # Weight in daltons\n",
    "Bound_mw = 7800\n",
    "temp = 293.15 # Used to calculate viscosity"
   ]
  },
  {
   "cell_type": "code",
   "execution_count": 37,
   "metadata": {},
   "outputs": [],
   "source": [
    "# Import necessary python packages\n",
    "%matplotlib inline\n",
    "import matplotlib\n",
    "import matplotlib.pyplot as plt\n",
    "from scipy import constants\n",
    "import numpy as np"
   ]
  },
  {
   "cell_type": "code",
   "execution_count": 41,
   "metadata": {},
   "outputs": [],
   "source": [
    "# Convert system mass (Da) into Rotational Correlation Time (ns)\n",
    "# Alternatively, use this website to calculate rotational correlation times for unbound and bound states\n",
    "# http://nickanthis.com/tools/tau\n",
    "def newda2rct(x):\n",
    "    return (0.0005998 * x + 0.1674) * 1e-9\n",
    "\n",
    "# Convert fluorophore tau and rotational correlation time to polarization\n",
    "# https://www.thermofisher.com/us/en/home/references/molecular-probes-the-handbook/technical-notes-and-product-highlights/fluorescence-polarization-fp.html\n",
    "def polarization(tau, phi):\n",
    "    return (1.666666*(1+tau/phi)+1/3)**(-1)\n",
    "\n",
    "# Determine data maximum and construct matplotlib annotation.\n",
    "def annot_max(x,y, ax=None):\n",
    "    xmax = x[np.argmax(y)]\n",
    "    ymax = y.max()\n",
    "    text= \"x={:.3f}, y={:.3f}\".format(xmax, ymax)\n",
    "    if not ax:\n",
    "        ax=plt.gca()\n",
    "    bbox_props = dict(boxstyle=\"square,pad=0.3\", fc=\"w\", ec=\"k\", lw=0.72)\n",
    "    arrowprops=dict(arrowstyle=\"->\",connectionstyle=\"angle,angleA=0,angleB=60\")\n",
    "    kw = dict(xycoords='data',textcoords=\"axes fraction\",\n",
    "              arrowprops=arrowprops, bbox=bbox_props, ha=\"right\", va=\"top\")\n",
    "    ax.annotate(text, xy=(xmax, ymax), xytext=(1,1.1), **kw)\n",
    "\n",
    "# Calculate viscosity from temp. Not used in current code version.\n",
    "viscosity = 2.414e-5 * 10**(247.8/(temp-140))"
   ]
  },
  {
   "cell_type": "code",
   "execution_count": 54,
   "metadata": {},
   "outputs": [
    {
     "name": "stdout",
     "output_type": "stream",
     "text": [
      "1.6069200000000003e-09 4.84584e-09\n",
      "[[0.1        0.01619807]\n",
      " [0.149      0.0233722 ]\n",
      " [0.198      0.03009537]\n",
      " [0.247      0.0364009 ]\n",
      " [0.296      0.04231909]\n",
      " [0.345      0.04787755]\n",
      " [0.394      0.05310147]\n",
      " [0.443      0.05801389]\n",
      " [0.492      0.06263591]\n",
      " [0.541      0.0669869 ]\n",
      " [0.59       0.07108464]\n",
      " [0.639      0.07494552]\n",
      " [0.688      0.07858462]\n",
      " [0.737      0.08201587]\n",
      " [0.786      0.08525216]\n",
      " [0.835      0.0883054 ]\n",
      " [0.884      0.09118662]\n",
      " [0.933      0.09390607]\n",
      " [0.982      0.09647326]\n",
      " [1.031      0.09889704]\n",
      " [1.08       0.10118564]\n",
      " [1.129      0.10334672]\n",
      " [1.178      0.10538745]\n",
      " [1.227      0.10731451]\n",
      " [1.276      0.10913413]\n",
      " [1.325      0.11085215]\n",
      " [1.374      0.11247405]\n",
      " [1.423      0.11400493]\n",
      " [1.472      0.1154496 ]\n",
      " [1.521      0.11681256]\n",
      " [1.57       0.11809805]\n",
      " [1.619      0.11931005]\n",
      " [1.668      0.12045229]\n",
      " [1.717      0.12152829]\n",
      " [1.766      0.12254137]\n",
      " [1.815      0.12349465]\n",
      " [1.864      0.12439108]\n",
      " [1.913      0.12523345]\n",
      " [1.962      0.12602437]\n",
      " [2.011      0.12676632]\n",
      " [2.06       0.12746166]\n",
      " [2.109      0.1281126 ]\n",
      " [2.158      0.12872123]\n",
      " [2.207      0.12928955]\n",
      " [2.256      0.12981943]\n",
      " [2.305      0.13031267]\n",
      " [2.354      0.13077094]\n",
      " [2.403      0.13119587]\n",
      " [2.452      0.13158896]\n",
      " [2.501      0.13195168]\n",
      " [2.55       0.13228538]\n",
      " [2.599      0.13259139]\n",
      " [2.648      0.13287093]\n",
      " [2.697      0.13312519]\n",
      " [2.746      0.1333553 ]\n",
      " [2.795      0.13356233]\n",
      " [2.844      0.13374728]\n",
      " [2.893      0.13391114]\n",
      " [2.942      0.13405483]\n",
      " [2.991      0.13417923]\n",
      " [3.04       0.13428518]\n",
      " [3.089      0.13437348]\n",
      " [3.138      0.1344449 ]\n",
      " [3.187      0.13450017]\n",
      " [3.236      0.13453999]\n",
      " [3.285      0.13456502]\n",
      " [3.334      0.13457589]\n",
      " [3.383      0.13457323]\n",
      " [3.432      0.1345576 ]\n",
      " [3.481      0.13452957]\n",
      " [3.53       0.13448967]\n",
      " [3.579      0.1344384 ]\n",
      " [3.628      0.13437626]\n",
      " [3.677      0.1343037 ]\n",
      " [3.726      0.13422118]\n",
      " [3.775      0.13412912]\n",
      " [3.824      0.13402794]\n",
      " [3.873      0.13391801]\n",
      " [3.922      0.13379973]\n",
      " [3.971      0.13367345]\n",
      " [4.02       0.13353952]\n",
      " [4.069      0.13339826]\n",
      " [4.118      0.13324999]\n",
      " [4.167      0.13309503]\n",
      " [4.216      0.13293366]\n",
      " [4.265      0.13276616]\n",
      " [4.314      0.1325928 ]\n",
      " [4.363      0.13241384]\n",
      " [4.412      0.13222953]\n",
      " [4.461      0.1320401 ]\n",
      " [4.51       0.1318458 ]\n",
      " [4.559      0.13164682]\n",
      " [4.608      0.1314434 ]\n",
      " [4.657      0.13123572]\n",
      " [4.706      0.13102399]\n",
      " [4.755      0.13080839]\n",
      " [4.804      0.13058911]\n",
      " [4.853      0.13036631]\n",
      " [4.902      0.13014016]\n",
      " [4.951      0.12991083]]\n"
     ]
    }
   ],
   "source": [
    "# Fluorescence molecule lifetimes to test\n",
    "tau_min = 0.1e-9 # Minimum fluorescence lifetime to calculate (>0)\n",
    "tau_max = 5e-9 # Max fluorescence lifetime\n",
    "x_points = 100\n",
    "tau = np.arange(tau_min, tau_max, (tau_max-tau_min)/x_points, dtype=float)\n",
    "\n",
    "# Calculate RCT in ns for bound and unbound states\n",
    "rct_un = newda2rct(Unbound_mw)\n",
    "rct_bound = newda2rct(Bound_mw)\n",
    "print(rct_un,rct_bound)\n",
    "\n",
    "# Calculate relative polarization and take difference between states\n",
    "y = np.array(polarization(tau,rct_bound)) - np.array(polarization(tau,rct_un))\n",
    "\n",
    "# print(np.c_[tau*1e9,y])"
   ]
  },
  {
   "cell_type": "code",
   "execution_count": 53,
   "metadata": {},
   "outputs": [
    {
     "data": {
      "image/png": "[encoded data removed]",
      "text/plain": [
       "<Figure size 432x288 with 1 Axes>"
      ]
     },
     "metadata": {
      "needs_background": "light"
     },
     "output_type": "display_data"
    }
   ],
   "source": [
    "f, ax = plt.subplots(1)\n",
    "x = tau*1e9\n",
    "ax.plot(x,y)\n",
    "# plt.ticklabel_format(axis='x', style='sci', scilimits=(-9,-9))\n",
    "plt.xlabel(\"Fluorophore Lifetime (ns)\")\n",
    "plt.ylabel(\"∆ Polarization\")\n",
    "annot_max(x,y,ax)\n",
    "# f.savefig(\"Test.png\")"
   ]
  },
  {
   "cell_type": "code",
   "execution_count": null,
   "metadata": {},
   "outputs": [],
   "source": [
    "# Potentially useful reading\n",
    "\n",
    "# https://biologicalproceduresonline.biomedcentral.com/track/pdf/10.1007/s12575-009-9008-x.pdf"
   ]
  }
 ],
 "metadata": {
  "kernelspec": {
   "display_name": "Python 3",
   "language": "python",
   "name": "python3"
  },
  "language_info": {
   "codemirror_mode": {
    "name": "ipython",
    "version": 3
   },
   "file_extension": ".py",
   "mimetype": "text/x-python",
   "name": "python",
   "nbconvert_exporter": "python",
   "pygments_lexer": "ipython3",
   "version": "3.7.10"
  }
 },
 "nbformat": 4,
 "nbformat_minor": 4
}
