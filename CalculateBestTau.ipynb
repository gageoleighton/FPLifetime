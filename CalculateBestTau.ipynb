{
 "cells": [
  {
   "cell_type": "code",
   "execution_count": 142,
   "metadata": {},
   "outputs": [],
   "source": [
    "# Jupyter Notebook - Calculate Optimal Fluorescence Lifetime for Fluorescence Polarization system\n",
    "# Gage Leighton - 2021-12-18\n",
    "\n",
    "# Use this website to calculate rotational correlation times for unbound and bound states\n",
    "# http://nickanthis.com/tools/tau\n",
    "Unbound_tau = 1.39e-9\n",
    "Bound_tau = 3.773e-9\n",
    "temp = 293.15 # 20C\n",
    "\n",
    "viscosity = 2.414e-5 * 10**(247.8/(temp-140))"
   ]
  },
  {
   "cell_type": "code",
   "execution_count": 143,
   "metadata": {},
   "outputs": [],
   "source": [
    "%matplotlib inline\n",
    "import matplotlib\n",
    "import matplotlib.pyplot as plt\n",
    "from scipy import constants\n",
    "import numpy as np"
   ]
  },
  {
   "cell_type": "code",
   "execution_count": 157,
   "metadata": {},
   "outputs": [],
   "source": [
    "# Convert system mass (Da) into Rotational Correlation Time\n",
    "def da2rct(x):\n",
    "    return 4*constants.pi/3 * viscosity/(constants.k * temp) * 1.212e-30 * x\n",
    "\n",
    "# Convert fluorophore tau and rotational correlation time to polarization\n",
    "# https://www.thermofisher.com/us/en/home/references/molecular-probes-the-handbook/technical-notes-and-product-highlights/fluorescence-polarization-fp.html\n",
    "def polarization(tau, phi):\n",
    "    return (1.666666*(1+tau/phi)+1/3)**(-1)\n",
    "\n",
    "def annot_max(x,y, ax=None):\n",
    "    xmax = x[np.argmax(y)]\n",
    "    ymax = y.max()\n",
    "    text= \"x={:.3f}, y={:.3f}\".format(xmax, ymax)\n",
    "    if not ax:\n",
    "        ax=plt.gca()\n",
    "    bbox_props = dict(boxstyle=\"square,pad=0.3\", fc=\"w\", ec=\"k\", lw=0.72)\n",
    "    arrowprops=dict(arrowstyle=\"->\",connectionstyle=\"angle,angleA=0,angleB=60\")\n",
    "    kw = dict(xycoords='data',textcoords=\"axes fraction\",\n",
    "              arrowprops=arrowprops, bbox=bbox_props, ha=\"right\", va=\"top\")\n",
    "    ax.annotate(text, xy=(xmax, ymax), xytext=(1,1.1), **kw)"
   ]
  },
  {
   "cell_type": "code",
   "execution_count": 158,
   "metadata": {},
   "outputs": [
    {
     "name": "stdout",
     "output_type": "stream",
     "text": [
      "2.5130831418735187e-09 9.298407624932019e-09\n"
     ]
    }
   ],
   "source": [
    "# https://biologicalproceduresonline.biomedcentral.com/track/pdf/10.1007/s12575-009-9008-x.pdf\n",
    "tau = np.arange(0.11e-9,5e-9, 0.1e-9, dtype=float)\n",
    "\n",
    "# rct_un = da2rct(Unbound_mass)\n",
    "# rct_bound = da2rct(Bound_mass)\n",
    "# print(rct_un,rct_bound)\n",
    "# rct_un = 1.39e-9\n",
    "# rct_bound = 3.773e-9\n",
    "\n",
    "y = np.array(polarization(tau,rct_bound)) - np.array(polarization(tau,rct_un))\n",
    "\n",
    "# print(np.c_[tau*1e9,y])"
   ]
  },
  {
   "cell_type": "code",
   "execution_count": 161,
   "metadata": {},
   "outputs": [
    {
     "data": {
      "image/png": "[encoded data removed]",
      "text/plain": [
       "<Figure size 432x288 with 1 Axes>"
      ]
     },
     "metadata": {
      "needs_background": "light"
     },
     "output_type": "display_data"
    }
   ],
   "source": [
    "f, ax = plt.subplots(1)\n",
    "x = tau*1e9\n",
    "ax.plot(x,y)\n",
    "# plt.ticklabel_format(axis='x', style='sci', scilimits=(-9,-9))\n",
    "plt.xlabel(\"Fluorophore Lifetime (ns)\")\n",
    "plt.ylabel(\"∆ Polarization\")\n",
    "annot_max(x,y,ax)\n",
    "# f.savefig(\"Test.png\")"
   ]
  },
  {
   "cell_type": "code",
   "execution_count": null,
   "metadata": {},
   "outputs": [],
   "source": []
  }
 ],
 "metadata": {
  "kernelspec": {
   "display_name": "Python 3",
   "language": "python",
   "name": "python3"
  },
  "language_info": {
   "codemirror_mode": {
    "name": "ipython",
    "version": 3
   },
   "file_extension": ".py",
   "mimetype": "text/x-python",
   "name": "python",
   "nbconvert_exporter": "python",
   "pygments_lexer": "ipython3",
   "version": "3.7.4"
  }
 },
 "nbformat": 4,
 "nbformat_minor": 4
}
